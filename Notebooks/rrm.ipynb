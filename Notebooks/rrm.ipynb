{
 "cells": [
  {
   "cell_type": "markdown",
   "metadata": {},
   "source": [
    "# RRM Notebook"
   ]
  },
  {
   "cell_type": "markdown",
   "metadata": {},
   "source": [
    "main.py"
   ]
  },
  {
   "cell_type": "code",
   "execution_count": 3,
   "metadata": {},
   "outputs": [
    {
     "name": "stdout",
     "output_type": "stream",
     "text": [
      "20 20\n"
     ]
    }
   ],
   "source": [
    "# -*- coding: utf-8 -*-\n",
    "\"\"\"\n",
    "Created on Wed Aug 21 12:54:02 2019\n",
    "\n",
    "@author: Admin\n",
    "\"\"\"\n",
    "import csv\n",
    "import matplotlib.pyplot as plt\n",
    "import statistics as stat\n",
    "import numpy as np\n",
    "\n",
    "\n",
    "AA = ['L','I','N','G','V','E','P','H','K','A','Y','W','Q','M','S','C','T','F','R','D']\n",
    "EIIP = [0,0,0.0036,0.005,0.0057,0.0058,0.0198,0.0242,0.0371,0.0373,0.0516,0.0548,0.0761,0.0823,0.0829,0.0829,0.0941,0.0946,0.0959,0.1263]\n",
    "\n",
    "seq = []\n",
    "test = 'IMVTESSDYSSY'\n",
    "testnum = []\n",
    "\n",
    "print(len(AA), len(EIIP))"
   ]
  },
  {
   "cell_type": "code",
   "execution_count": 1,
   "metadata": {},
   "outputs": [
    {
     "ename": "FileNotFoundError",
     "evalue": "[Errno 2] No such file or directory: '9_17mers.csv'",
     "output_type": "error",
     "traceback": [
      "\u001b[0;31m---------------------------------------------------------------------------\u001b[0m",
      "\u001b[0;31mFileNotFoundError\u001b[0m                         Traceback (most recent call last)",
      "\u001b[0;32m<ipython-input-1-8ef9f2110857>\u001b[0m in \u001b[0;36m<module>\u001b[0;34m\u001b[0m\n\u001b[1;32m     18\u001b[0m \u001b[0mtestnum\u001b[0m \u001b[0;34m=\u001b[0m \u001b[0;34m[\u001b[0m\u001b[0;34m]\u001b[0m\u001b[0;34m\u001b[0m\u001b[0;34m\u001b[0m\u001b[0m\n\u001b[1;32m     19\u001b[0m \u001b[0;34m\u001b[0m\u001b[0m\n\u001b[0;32m---> 20\u001b[0;31m \u001b[0;32mwith\u001b[0m \u001b[0mopen\u001b[0m\u001b[0;34m(\u001b[0m\u001b[0;34m'9_17mers.csv'\u001b[0m\u001b[0;34m)\u001b[0m \u001b[0;32mas\u001b[0m \u001b[0mcsvfile\u001b[0m\u001b[0;34m:\u001b[0m\u001b[0;34m\u001b[0m\u001b[0;34m\u001b[0m\u001b[0m\n\u001b[0m\u001b[1;32m     21\u001b[0m     \u001b[0mreadCSV\u001b[0m \u001b[0;34m=\u001b[0m \u001b[0mcsv\u001b[0m\u001b[0;34m.\u001b[0m\u001b[0mreader\u001b[0m\u001b[0;34m(\u001b[0m\u001b[0mcsvfile\u001b[0m\u001b[0;34m,\u001b[0m \u001b[0mdelimiter\u001b[0m \u001b[0;34m=\u001b[0m \u001b[0;34m\",\"\u001b[0m\u001b[0;34m)\u001b[0m\u001b[0;34m\u001b[0m\u001b[0;34m\u001b[0m\u001b[0m\n\u001b[1;32m     22\u001b[0m \u001b[0;34m\u001b[0m\u001b[0m\n",
      "\u001b[0;31mFileNotFoundError\u001b[0m: [Errno 2] No such file or directory: '9_17mers.csv'"
     ]
    }
   ],
   "source": [
    "with open('9_17mers.csv') as csvfile:\n",
    "    readCSV = csv.reader(csvfile, delimiter = \",\")\n",
    "    \n",
    "    #change the spreadsheet to csv form with each element being strings\n",
    "    for row in readCSV:\n",
    "        string = \"\".join(row)\n",
    "        rules = ['O' not in string, 'J' not in string,'/' not in string]\n",
    "        if all(rules):            \n",
    "            seq.append(string)"
   ]
  },
  {
   "cell_type": "code",
   "execution_count": null,
   "metadata": {},
   "outputs": [],
   "source": [
    "newpep = []\n",
    "less = []\n",
    "more = []\n",
    "\n",
    "for letters in test:\n",
    "    newpep = []\n",
    "    newpep.append(EIIP[AA.index(letters)])\n",
    "    testnum.append(np.fft.fft(newpep))"
   ]
  },
  {
   "cell_type": "code",
   "execution_count": null,
   "metadata": {},
   "outputs": [],
   "source": [
    "# from EIIP -> fft \n",
    "for seqs in seq:\n",
    "    newpep = []\n",
    "    for letters in seqs:\n",
    "        newpep.append(EIIP[AA.index(letters)]) \n",
    "    if len(newpep) <= len(test):\n",
    "        less.append(np.fft.fft(newpep))\n",
    "        \n",
    "    else:\n",
    "        more.append(np.fft.fft(newpep))\n",
    "\n",
    "crosspec = []\n",
    "temp = []\n",
    "#        \n",
    "## for sequences less than GRBP-5\n",
    "#for seqs in less:\n",
    "#    for i in range(0, len(testnum)):\n",
    "#        newpep = []\n",
    "#        if(i == len(seqs)):\n",
    "#            print('AMINO:' + '0')\n",
    "#            print('GRBP:' + testnum[i])\n",
    "#        print('AMINO: ' + seqs[i])\n",
    "#        print('GRBP:' + testnum[i])"
   ]
  }
 ],
 "metadata": {
  "kernelspec": {
   "display_name": "Python 3",
   "language": "python",
   "name": "python3"
  },
  "language_info": {
   "codemirror_mode": {
    "name": "ipython",
    "version": 3
   },
   "file_extension": ".py",
   "mimetype": "text/x-python",
   "name": "python",
   "nbconvert_exporter": "python",
   "pygments_lexer": "ipython3",
   "version": "3.7.6"
  }
 },
 "nbformat": 4,
 "nbformat_minor": 4
}
