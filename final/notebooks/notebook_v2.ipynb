{
 "cells": [
  {
   "cell_type": "markdown",
   "metadata": {},
   "source": [
    "ok all importing of data and whatnot should work proper now"
   ]
  },
  {
   "cell_type": "code",
   "execution_count": 1,
   "metadata": {},
   "outputs": [],
   "source": [
    "# @TODO Dynamically filter peptide set based on length(s) of input sequences of binders\n",
    "#       i.e. 2 binders, one 11 AA long, one 13 AA long, each gets their own \"subset\" of the\n",
    "#       full peptide lilst that can be compared to it. For any number of input sequences\n",
    "\n",
    "import pandas as pd\n",
    "import numpy as np\n",
    "from scipy.stats import kendalltau\n",
    "import matplotlib.pyplot as plt\n",
    "from typing import Set, Tuple, Dict\n",
    "\n",
    "class SequenceSimilarity:\n",
    "    '''\n",
    "    Class that takes in a path to a list of amino acid sequences as well\n",
    "    as any number of peptide sequences explicitly that are known to have\n",
    "    a certain set of properties. Generates metrics for similarity for each\n",
    "    peptide in path and returns domains AA sequence with high similarity\n",
    "    '''\n",
    "\n",
    "    def __init__(self, binders: Dict, data_paths: Dict, peps_path: str, aa_col: str):\n",
    "        \n",
    "        self.binder_dict = binders\n",
    "        self.data_paths_dict = data_paths\n",
    "        self.__update_binders()\n",
    "        self.__update_similarity_data()\n",
    "\n",
    "        self.peps = pd.read_csv(peps_path)\n",
    "        self.peps.columns = [aa_col]\n",
    "        self.same_len_peps = self.peps[self.peps[aa_col].str.len() == self.binder_len]\n",
    "        self.aa_col = aa_col\n",
    "\n",
    "        self.AA = set('LINGVEPHKAYWQMSCTFRD')\n",
    "        self.sseq_set: Set[Tuple[int, str]] # full set of binder subseqs\n",
    "        self.top_sseq: Set[Tuple[int, str]] # set of sub sequences w/ high simil\n",
    "        self.top_seq: Set[str]              # set of peptides with high simil\n",
    "    \n",
    "    def __update_binders(self) -> None:\n",
    "        '''\n",
    "        Private method to set the binders stored by\n",
    "        class and check to make sure they are of the\n",
    "        same length as one another\n",
    "        '''\n",
    "        print(self.binder_dict)\n",
    "        self.binders = [binder for binder in self.binder_dict.values()]\n",
    "        try:\n",
    "            self.binder_len = len(self.binders[0])\n",
    "        except:\n",
    "            print(\"Need at least one input binder\")\n",
    "        \n",
    "        for binder in self.binders:\n",
    "            if len(binder) != self.binder_len:\n",
    "                print(\"All binders must be of same length\")\n",
    "                # @TODO Handle multiple lengths of binders, each differently\n",
    "                #       lengthed binder is compared with different parts of the\n",
    "                #       full peptide set of the same length\n",
    "\n",
    "    def __update_similarity_data(self) -> None:\n",
    "        \"\"\"\n",
    "        Private method to store the paths of any data needed\n",
    "        for similarity calcs and create Dataframes from them\n",
    "        \"\"\"\n",
    "        self.data_paths: Dict = self.data_paths_dict\n",
    "        self.data = {data:pd.read_csv(self.data_paths[data], header=None) \\\n",
    "                     for data in self.data_paths.keys()}\n",
    "\n",
    "\n",
    "    def df_filter_subseq(self, data: pd.DataFrame, sub_seq: str, ind: int = None):\n",
    "        '''\n",
    "        Takes in a subsequence of equal or lesser length to\n",
    "        peptides in class peptide dataframe and returns a dataframe\n",
    "        containing only those peptides containing the sequence\n",
    "        '''\n",
    "        if not {*sub_seq}.issubset({*self.AA}):\n",
    "            raise Exception('Invalid subsequence')\n",
    "        if ind is None:\n",
    "            return self.data.filter() #@TODO Implement the filter here\n",
    "\n",
    "        data_filter = self.data[self.AA_COL].apply(\n",
    "            lambda s: s[ind:len(sub_seq) == sub_seq])\n",
    "        return data[data[self.AA_COL].filter(data_filter)]\n",
    "\n",
    "    def get_sim_matrix(self, seq) -> pd.DataFrame:\n",
    "        return self.data.filter\n",
    "\n",
    "\n",
    "    def get_binder_subseq(self) -> pd.DataFrame:\n",
    "        '''\n",
    "        Generates all possible subsequences for binders\n",
    "        provided in class constructor\n",
    "        '''\n",
    "        def gen_all_subseq(seq, sub_seq, i):\n",
    "            if i == len(seq):\n",
    "                if len(sub_seq) != 0:\n",
    "                    yield(sub_seq)\n",
    "                else:\n",
    "                    gen_all_subseq(seq, sub_seq, sub_seq)\n",
    "                gen_all_subseq(seq, sub_seq+[seq[i]], i+1)\n",
    "\n",
    "        sseq = dict.fromkeys(self.binders)\n",
    "        for binder in self.binders:\n",
    "            sseq[binder] = [sseq for sseq in list(\n",
    "                gen_all_subseq(binder, '', 0))]\n",
    "        return sseq\n",
    "\n",
    "    def get_PAM30_similarity(self) -> pd.DataFrame:\n",
    "        '''\n",
    "        Returns the PAM30 similarity of peptides to\n",
    "        specified binder sequences\n",
    "        @TODO: Automatically get perfect match and lowest match\n",
    "        @TODO: Generalize for all binder sequences inputted\n",
    "        '''\n",
    "        raise NotImplementedError\n",
    "\n",
    "    def get_BLOSUM_similarity(self) -> pd.DataFrame:\n",
    "        raise NotImplementedError\n",
    "    '''\n",
    "    def get_RRM_SN_ratio(self):\n",
    "        get_eiip_seq = lambda pep: list(map(lambda aa: self.AA_EIIP[aa], pep))\n",
    "        get_dft_from_eiip = lambda eiip: np.fft.rfft(eiip)[1:]\n",
    "    '''\n",
    "\n",
    "    def get_kendalltau_corr_map(self) -> Tuple:\n",
    "        return kendalltau(self.data['AA_MAP'][['Num']], self.data['AA_MAP'][['EIIP']])"
   ]
  },
  {
   "cell_type": "code",
   "execution_count": 5,
   "metadata": {},
   "outputs": [
    {
     "name": "stdout",
     "output_type": "stream",
     "text": [
      "{'GRBP5': 'IMVTESSDYSSY', 'M6': 'IMVTASSAYDDY'}\n"
     ]
    }
   ],
   "source": [
    "\n",
    "DATA_PATHS = {\n",
    "    \"BLOSUM\":\"../src_data/BLOSUM.csv\",\n",
    "    \"PAM30\":\"../src_data/pam30.csv\",\n",
    "    \"AA_MAP\":\"../src_data/aa_chart.csv\",\n",
    "}\n",
    "SEQS = {\n",
    "    'GRBP5':'IMVTESSDYSSY',\n",
    "    'M6':'IMVTASSAYDDY'\n",
    "}\n",
    "AA_COL = 'Sequences'\n",
    "PEP_PATH = '../src_data/Sequence_data.csv'\n",
    "similarity = SequenceSimilarity(SEQS, DATA_PATHS, PEP_PATH, AA_COL)\n"
   ]
  },
  {
   "cell_type": "code",
   "execution_count": 8,
   "metadata": {},
   "outputs": [
    {
     "ename": "TypeError",
     "evalue": "df_filter_subseq() missing 2 required positional arguments: 'data' and 'sub_seq'",
     "output_type": "error",
     "traceback": [
      "\u001b[0;31m---------------------------------------------------------------------------\u001b[0m",
      "\u001b[0;31mTypeError\u001b[0m                                 Traceback (most recent call last)",
      "\u001b[0;32m<ipython-input-8-13ae6bdd0c1c>\u001b[0m in \u001b[0;36m<module>\u001b[0;34m\u001b[0m\n\u001b[0;32m----> 1\u001b[0;31m \u001b[0msimilarity\u001b[0m\u001b[0;34m.\u001b[0m\u001b[0mdf_filter_subseq\u001b[0m\u001b[0;34m(\u001b[0m\u001b[0;34m)\u001b[0m\u001b[0;34m\u001b[0m\u001b[0;34m\u001b[0m\u001b[0m\n\u001b[0m",
      "\u001b[0;31mTypeError\u001b[0m: df_filter_subseq() missing 2 required positional arguments: 'data' and 'sub_seq'"
     ]
    }
   ],
   "source": [
    "similarity.df_filter_subseq()"
   ]
  },
  {
   "cell_type": "code",
   "execution_count": null,
   "metadata": {},
   "outputs": [],
   "source": []
  }
 ],
 "metadata": {
  "kernelspec": {
   "display_name": "Python 3",
   "language": "python",
   "name": "python3"
  },
  "language_info": {
   "codemirror_mode": {
    "name": "ipython",
    "version": 3
   },
   "file_extension": ".py",
   "mimetype": "text/x-python",
   "name": "python",
   "nbconvert_exporter": "python",
   "pygments_lexer": "ipython3",
   "version": "3.7.6"
  }
 },
 "nbformat": 4,
 "nbformat_minor": 4
}
