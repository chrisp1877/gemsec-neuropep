{
 "cells": [
  {
   "cell_type": "markdown",
   "metadata": {},
   "source": [
    "ok all importing of data and whatnot should work proper now"
   ]
  },
  {
   "cell_type": "code",
   "execution_count": 10,
   "metadata": {},
   "outputs": [],
   "source": [
    "# @TODO Dynamically filter peptide set based on length(s) of input sequences of binders\n",
    "#       i.e. 2 binders, one 11 AA long, one 13 AA long, each gets their own \"subset\" of the\n",
    "#       full peptide lilst that can be compared to it. For any number of input sequences\n",
    "\n",
    "import pandas as pd\n",
    "import numpy as np\n",
    "from scipy.stats import kendalltau\n",
    "import matplotlib.pyplot as plt\n",
    "from typing import Set, Tuple, Dict\n",
    "\n",
    "class SequenceSimilarity:\n",
    "    '''\n",
    "    Class that takes in a path to a list of amino acid sequences as well\n",
    "    as any number of peptide sequences explicitly that are known to have\n",
    "    a certain set of properties. Generates metrics for similarity for each\n",
    "    peptide in path and returns domains AA sequence with high similarity\n",
    "    '''\n",
    "\n",
    "    def __init__(self, binders: Dict, data_paths: Dict, peps_path: str, aa_col: str):\n",
    "        \n",
    "        self.binder_dict = binders\n",
    "        self.data_paths_dict = data_paths\n",
    "        self.__update_binders()\n",
    "        self.__update_similarity_data()\n",
    "\n",
    "        self.peps = pd.read_csv(peps_path)\n",
    "        self.peps.columns = [aa_col]\n",
    "        self.peps_same_len = self.peps[self.peps[aa_col].str.len() == self.binder_len]\n",
    "        self.aa_col = aa_col\n",
    "\n",
    "        self.AA = set('LINGVEPHKAYWQMSCTFRD')\n",
    "        self.sseq_set: Set[Tuple[int, str]] # full set of binder subseqs\n",
    "        self.top_sseq: Set[Tuple[int, str]] # set of sub sequences w/ high simil\n",
    "        self.top_seq: Set[str]              # set of peptides with high simil\n",
    "    \n",
    "    def __update_binders(self) -> None:\n",
    "        '''\n",
    "        Private method to set the binders stored by\n",
    "        class and check to make sure they are of the\n",
    "        same length as one another\n",
    "        '''\n",
    "        print(self.binder_dict)\n",
    "        self.binders = [binder for binder in self.binder_dict.values()]\n",
    "        try:\n",
    "            self.binder_len = len(self.binders[0])\n",
    "        except:\n",
    "            print(\"Need at least one input binder\")\n",
    "        \n",
    "        for binder in self.binders:\n",
    "            if len(binder) != self.binder_len:\n",
    "                print(\"All binders must be of same length\")\n",
    "                # @TODO Handle multiple lengths of binders, each differently\n",
    "                #       lengthed binder is compared with different parts of the\n",
    "                #       full peptide set of the same length\n",
    "\n",
    "    def __update_similarity_data(self) -> None:\n",
    "        \"\"\"\n",
    "        Private method to store the paths of any data needed\n",
    "        for similarity calcs and create Dataframes from them\n",
    "        \"\"\"\n",
    "        self.data_paths: Dict = self.data_paths_dict\n",
    "        self.data = {data:pd.read_csv(self.data_paths[data], header=None) \\\n",
    "                     for data in self.data_paths.keys()}\n",
    "\n",
    "\n",
    "    def df_filter_subseq(self, sub_seq: str, ind: int = None):\n",
    "        '''\n",
    "        Takes in a subsequence of equal or lesser length to\n",
    "        peptides in class peptide dataframe and returns a dataframe\n",
    "        containing only those peptides containing the sequence\n",
    "        '''\n",
    "        if not {*sub_seq}.issubset({*self.AA}):\n",
    "            raise Exception('Invalid subsequence')\n",
    "        if ind is None:\n",
    "            return self.peps_same_len[peps_same_len[self.aa_col].str.contains(sub_seq)]\n",
    "\n",
    "        data_filter = self.peps_same_len[self.aa_col].apply(\n",
    "            lambda s: s[ind:len(sub_seq) == sub_seq])\n",
    "        return self.peps_same_len.filter(data_filter)\n",
    "\n",
    "    def get_sim_matrix(self, seq) -> pd.DataFrame:\n",
    "        return self.data.filter\n",
    "\n",
    "\n",
    "    def get_binder_subseq(self) -> pd.DataFrame:\n",
    "        '''\n",
    "        Generates all possible subsequences for binders\n",
    "        provided in class constructor\n",
    "        '''\n",
    "        def gen_all_subseq(seq, sub_seq, i):\n",
    "            if i == len(seq):\n",
    "                if len(sub_seq) != 0:\n",
    "                    yield(sub_seq)\n",
    "                else:\n",
    "                    gen_all_subseq(seq, sub_seq, sub_seq)\n",
    "                gen_all_subseq(seq, sub_seq+[seq[i]], i+1)\n",
    "\n",
    "        sseq = dict.fromkeys(self.binders)\n",
    "        for binder in self.binders:\n",
    "            sseq[binder] = [sseq for sseq in list(\n",
    "                gen_all_subseq(binder, '', 0))]\n",
    "        return sseq\n",
    "\n",
    "    def get_PAM30_similarity(self) -> pd.DataFrame:\n",
    "        '''\n",
    "        Returns the PAM30 similarity of peptides to\n",
    "        specified binder sequences\n",
    "        @TODO: Automatically get perfect match and lowest match\n",
    "        @TODO: Generalize for all binder sequences inputted\n",
    "        '''\n",
    "        raise NotImplementedError\n",
    "\n",
    "    def get_BLOSUM_similarity(self) -> pd.DataFrame:\n",
    "        raise NotImplementedError\n",
    "    '''\n",
    "    def get_RRM_SN_ratio(self):\n",
    "        get_eiip_seq = lambda pep: list(map(lambda aa: self.AA_EIIP[aa], pep))\n",
    "        get_dft_from_eiip = lambda eiip: np.fft.rfft(eiip)[1:]\n",
    "    '''\n",
    "\n",
    "    def get_kendalltau_corr_map(self) -> Tuple:\n",
    "        return kendalltau(self.data['AA_MAP'][['Num']], self.data['AA_MAP'][['EIIP']])"
   ]
  },
  {
   "cell_type": "code",
   "execution_count": 12,
   "metadata": {},
   "outputs": [
    {
     "name": "stdout",
     "output_type": "stream",
     "text": [
      "{'GRBP5': 'IMVTESSDYSSY', 'M6': 'IMVTASSAYDDY'}\n"
     ]
    },
    {
     "data": {
      "text/html": [
       "<div>\n",
       "<style scoped>\n",
       "    .dataframe tbody tr th:only-of-type {\n",
       "        vertical-align: middle;\n",
       "    }\n",
       "\n",
       "    .dataframe tbody tr th {\n",
       "        vertical-align: top;\n",
       "    }\n",
       "\n",
       "    .dataframe thead th {\n",
       "        text-align: right;\n",
       "    }\n",
       "</style>\n",
       "<table border=\"1\" class=\"dataframe\">\n",
       "  <thead>\n",
       "    <tr style=\"text-align: right;\">\n",
       "      <th></th>\n",
       "      <th>Sequences</th>\n",
       "    </tr>\n",
       "  </thead>\n",
       "  <tbody>\n",
       "    <tr>\n",
       "      <th>13</th>\n",
       "      <td>SVPHFSDEDKDP</td>\n",
       "    </tr>\n",
       "    <tr>\n",
       "      <th>14</th>\n",
       "      <td>VPHFSDEDKDPE</td>\n",
       "    </tr>\n",
       "    <tr>\n",
       "      <th>28</th>\n",
       "      <td>SVPHFSEEEKEA</td>\n",
       "    </tr>\n",
       "    <tr>\n",
       "      <th>29</th>\n",
       "      <td>VPHFSEEEKEAE</td>\n",
       "    </tr>\n",
       "    <tr>\n",
       "      <th>43</th>\n",
       "      <td>SVPHFSDEDKDP</td>\n",
       "    </tr>\n",
       "    <tr>\n",
       "      <th>...</th>\n",
       "      <td>...</td>\n",
       "    </tr>\n",
       "    <tr>\n",
       "      <th>28873</th>\n",
       "      <td>FLRRIRPKLKWD</td>\n",
       "    </tr>\n",
       "    <tr>\n",
       "      <th>28874</th>\n",
       "      <td>LRRIRPKLKWDN</td>\n",
       "    </tr>\n",
       "    <tr>\n",
       "      <th>28875</th>\n",
       "      <td>RRIRPKLKWDNQ</td>\n",
       "    </tr>\n",
       "    <tr>\n",
       "      <th>28903</th>\n",
       "      <td>YGGFLRRQFKVV</td>\n",
       "    </tr>\n",
       "    <tr>\n",
       "      <th>28904</th>\n",
       "      <td>GGFLRRQFKVVT</td>\n",
       "    </tr>\n",
       "  </tbody>\n",
       "</table>\n",
       "<p>3079 rows × 1 columns</p>\n",
       "</div>"
      ],
      "text/plain": [
       "          Sequences\n",
       "13     SVPHFSDEDKDP\n",
       "14     VPHFSDEDKDPE\n",
       "28     SVPHFSEEEKEA\n",
       "29     VPHFSEEEKEAE\n",
       "43     SVPHFSDEDKDP\n",
       "...             ...\n",
       "28873  FLRRIRPKLKWD\n",
       "28874  LRRIRPKLKWDN\n",
       "28875  RRIRPKLKWDNQ\n",
       "28903  YGGFLRRQFKVV\n",
       "28904  GGFLRRQFKVVT\n",
       "\n",
       "[3079 rows x 1 columns]"
      ]
     },
     "execution_count": 12,
     "metadata": {},
     "output_type": "execute_result"
    }
   ],
   "source": [
    "\n",
    "DATA_PATHS = {\n",
    "    \"BLOSUM\":\"../src_data/BLOSUM.csv\",\n",
    "    \"PAM30\":\"../src_data/pam30.csv\",\n",
    "    \"AA_MAP\":\"../src_data/aa_chart.csv\",\n",
    "}\n",
    "SEQS = {\n",
    "    'GRBP5':'IMVTESSDYSSY',\n",
    "    'M6':'IMVTASSAYDDY'\n",
    "}\n",
    "AA_COL = 'Sequences'\n",
    "PEP_PATH = '../src_data/Sequence_data.csv'\n",
    "similarity = SequenceSimilarity(SEQS, DATA_PATHS, PEP_PATH, AA_COL)\n",
    "similarity.peps_same_len"
   ]
  },
  {
   "cell_type": "code",
   "execution_count": 37,
   "metadata": {},
   "outputs": [
    {
     "data": {
      "text/html": [
       "<div>\n",
       "<style scoped>\n",
       "    .dataframe tbody tr th:only-of-type {\n",
       "        vertical-align: middle;\n",
       "    }\n",
       "\n",
       "    .dataframe tbody tr th {\n",
       "        vertical-align: top;\n",
       "    }\n",
       "\n",
       "    .dataframe thead th {\n",
       "        text-align: right;\n",
       "    }\n",
       "</style>\n",
       "<table border=\"1\" class=\"dataframe\">\n",
       "  <thead>\n",
       "    <tr style=\"text-align: right;\">\n",
       "      <th></th>\n",
       "      <th>Sequences</th>\n",
       "    </tr>\n",
       "  </thead>\n",
       "  <tbody>\n",
       "    <tr>\n",
       "      <th>13</th>\n",
       "      <td>SVPHFSDEDKDP</td>\n",
       "    </tr>\n",
       "    <tr>\n",
       "      <th>28</th>\n",
       "      <td>SVPHFSEEEKEA</td>\n",
       "    </tr>\n",
       "    <tr>\n",
       "      <th>43</th>\n",
       "      <td>SVPHFSDEDKDP</td>\n",
       "    </tr>\n",
       "    <tr>\n",
       "      <th>58</th>\n",
       "      <td>SVPHFSEEEKEP</td>\n",
       "    </tr>\n",
       "    <tr>\n",
       "      <th>73</th>\n",
       "      <td>SVPHFSDEDKDP</td>\n",
       "    </tr>\n",
       "    <tr>\n",
       "      <th>13697</th>\n",
       "      <td>SVPVEPEDDDMV</td>\n",
       "    </tr>\n",
       "    <tr>\n",
       "      <th>13760</th>\n",
       "      <td>SVPLRPEEDELI</td>\n",
       "    </tr>\n",
       "    <tr>\n",
       "      <th>27635</th>\n",
       "      <td>SVPHFSDEDKDP</td>\n",
       "    </tr>\n",
       "    <tr>\n",
       "      <th>28199</th>\n",
       "      <td>SVPHFSEEEKEA</td>\n",
       "    </tr>\n",
       "    <tr>\n",
       "      <th>28341</th>\n",
       "      <td>SVPHFSDEDKDP</td>\n",
       "    </tr>\n",
       "    <tr>\n",
       "      <th>28788</th>\n",
       "      <td>SVPHFSEEEKEP</td>\n",
       "    </tr>\n",
       "  </tbody>\n",
       "</table>\n",
       "</div>"
      ],
      "text/plain": [
       "          Sequences\n",
       "13     SVPHFSDEDKDP\n",
       "28     SVPHFSEEEKEA\n",
       "43     SVPHFSDEDKDP\n",
       "58     SVPHFSEEEKEP\n",
       "73     SVPHFSDEDKDP\n",
       "13697  SVPVEPEDDDMV\n",
       "13760  SVPLRPEEDELI\n",
       "27635  SVPHFSDEDKDP\n",
       "28199  SVPHFSEEEKEA\n",
       "28341  SVPHFSDEDKDP\n",
       "28788  SVPHFSEEEKEP"
      ]
     },
     "execution_count": 37,
     "metadata": {},
     "output_type": "execute_result"
    }
   ],
   "source": [
    "## fixing the filter df function\n",
    "\n",
    "AA = set('LINGVEPHKAYWQMSCTFRD')\n",
    "aa_col = \"Sequences\"\n",
    "\n",
    "def df_filter_subseq(peps, sub_seq: str, ind: int = None):\n",
    "    \n",
    "        if not {*sub_seq}.issubset({*AA}):\n",
    "            raise Exception('Invalid subsequence')\n",
    "        if ind is None:\n",
    "            return peps[peps[aa_col].str.contains(sub_seq)]\n",
    "        return peps[peps[aa_col].str.find(sub_seq) == ind]\n",
    "    \n",
    "df_filter_subseq(similarity.peps_same_len, 'SVP', ind=0)"
   ]
  },
  {
   "cell_type": "code",
   "execution_count": 42,
   "metadata": {},
   "outputs": [
    {
     "data": {
      "text/plain": [
       "{'IMVTESSDYSSY': [], 'IMVTASSAYDDY': []}"
      ]
     },
     "execution_count": 42,
     "metadata": {},
     "output_type": "execute_result"
    }
   ],
   "source": [
    "binders = ['IMVTESSDYSSY', 'IMVTASSAYDDY']\n",
    "\n",
    "def get_binder_subseq(binders) -> pd.DataFrame:\n",
    "        '''\n",
    "        Generates all possible subsequences for binders\n",
    "        provided in class constructor\n",
    "        '''\n",
    "        def gen_all_subseq(seq, sub_seq, i):\n",
    "            if i == len(seq):\n",
    "                if len(sub_seq) != 0:\n",
    "                    yield(sub_seq)\n",
    "                else:\n",
    "                    gen_all_subseq(seq, sub_seq, sub_seq)\n",
    "                gen_all_subseq(seq, sub_seq+[seq[i]], i+1)\n",
    "\n",
    "        sseq = dict.fromkeys(binders)\n",
    "        for binder in binders:\n",
    "            sseq[binder] = [sseq for sseq in list(\n",
    "                gen_all_subseq(binders, '', 0))]\n",
    "        return sseq\n",
    "    \n",
    "get_binder_subseq(binders)"
   ]
  },
  {
   "cell_type": "code",
   "execution_count": 113,
   "metadata": {},
   "outputs": [
    {
     "name": "stdout",
     "output_type": "stream",
     "text": [
      "78\n"
     ]
    }
   ],
   "source": [
    "def it(word):\n",
    "    set1 = list()\n",
    "    for begin in range(len(word)):\n",
    "        for end in range(begin,len(word)):\n",
    "            set1.append(word[begin:end+1])\n",
    "    return set1\n",
    "\n",
    "print(len(it('IMVTESSDYSSY')))\n",
    "# -> should return A, B, C, D, AB, BC, CD, ABC, BCD, ABCD"
   ]
  },
  {
   "cell_type": "code",
   "execution_count": 61,
   "metadata": {},
   "outputs": [
    {
     "name": "stdout",
     "output_type": "stream",
     "text": [
      "{'A', 'BCD', 'ABCDE', 'BCDE', 'D', 'CDE', 'E', 'ABC', 'ABCD', 'CD', 'B', 'BC', 'DE', 'AB', 'C'}\n"
     ]
    }
   ],
   "source": [
    "# get all sub seq\n",
    "all_sseq = lambda s: set(s[i:j+1] for i in range(len(s)) for j in range(i, len(s)))\n",
    "print(all_sseq(\"ABCDE\"))"
   ]
  },
  {
   "cell_type": "code",
   "execution_count": 184,
   "metadata": {},
   "outputs": [
    {
     "name": "stdout",
     "output_type": "stream",
     "text": [
      "78\n",
      "78\n",
      "78\n",
      "[('I', 0), ('IM', 0), ('IMV', 0), ('IMVT', 0), ('IMVTE', 0), ('IMVTES', 0), ('IMVTESS', 0), ('IMVTESSD', 0), ('IMVTESSDY', 0), ('IMVTESSDYS', 0), ('IMVTESSDYSS', 0), ('IMVTESSDYSSY', 0), ('M', 1), ('MV', 1), ('MVT', 1), ('MVTE', 1), ('MVTES', 1), ('MVTESS', 1), ('MVTESSD', 1), ('MVTESSDY', 1), ('MVTESSDYS', 1), ('MVTESSDYSS', 1), ('MVTESSDYSSY', 1), ('V', 2), ('VT', 2), ('VTE', 2), ('VTES', 2), ('VTESS', 2), ('VTESSD', 2), ('VTESSDY', 2), ('VTESSDYS', 2), ('VTESSDYSS', 2), ('VTESSDYSSY', 2), ('T', 3), ('TE', 3), ('TES', 3), ('TESS', 3), ('TESSD', 3), ('TESSDY', 3), ('TESSDYS', 3), ('TESSDYSS', 3), ('TESSDYSSY', 3), ('E', 4), ('ES', 4), ('ESS', 4), ('ESSD', 4), ('ESSDY', 4), ('ESSDYS', 4), ('ESSDYSS', 4), ('ESSDYSSY', 4), ('S', 5), ('SS', 5), ('SSD', 5), ('SSDY', 5), ('SSDYS', 5), ('SSDYSS', 5), ('SSDYSSY', 5), ('S', 6), ('SD', 6), ('SDY', 6), ('SDYS', 6), ('SDYSS', 6), ('SDYSSY', 6), ('D', 7), ('DY', 7), ('DYS', 7), ('DYSS', 7), ('DYSSY', 7), ('Y', 8), ('YS', 8), ('YSS', 8), ('YSSY', 8), ('S', 9), ('SS', 9), ('SSY', 9), ('S', 10), ('SY', 10), ('Y', 11)]\n"
     ]
    }
   ],
   "source": [
    "bs = ['IMVTESSDYSSY', 'IMVTASSAYDDY']\n",
    "\n",
    "def get_binder_subseq(binders) -> pd.DataFrame:\n",
    "    '''\n",
    "    Generates all possible subsequences for binders\n",
    "    provided in class constructor\n",
    "    '''\n",
    "        \n",
    "    all_sseq = lambda s: [(s[i:j], i) for i in range(len(s)) for j in range(i+1, len(s)+1)]\n",
    "\n",
    "    sseq = dict.fromkeys(binders)\n",
    "    for binder in sseq.keys():\n",
    "        sseq[binder] = all_sseq(binder)\n",
    "    return sseq\n",
    "    \n",
    "\n",
    "    \n",
    "result =get_binder_subseq(bs)\n",
    "\n",
    "def countNonEmptySubstr(str): \n",
    "    n = len(str); \n",
    "    return int(n * (n + 1) / 2); \n",
    "\n",
    "print(countNonEmptySubstr(bs[0]))\n",
    "print(countNonEmptySubstr(bs[1]))\n",
    "print(len(result[bs[0]]))\n",
    "\n",
    "print(result[bs[0]])"
   ]
  },
  {
   "cell_type": "code",
   "execution_count": 172,
   "metadata": {},
   "outputs": [],
   "source": [
    "\n",
    "      \n",
    "# Python program to print all possible \n",
    "# substrings of a given string \n",
    "   \n",
    "# Function to print all sub strings \n",
    "def subString(s): \n",
    "    # Pick starting point in outer loop \n",
    "    # and lengths of different strings for \n",
    "    # a given starting point \n",
    "    out = []\n",
    "    for i in range(len(s)): \n",
    "        for j in range(i+1,len(s)+1): \n",
    "            out.append(s[i: j]); \n",
    "    return out\n",
    "\n",
    "  \n",
    "# This code is contributed by princiraj1992 \n"
   ]
  },
  {
   "cell_type": "code",
   "execution_count": 173,
   "metadata": {},
   "outputs": [
    {
     "name": "stdout",
     "output_type": "stream",
     "text": [
      "78\n"
     ]
    }
   ],
   "source": [
    "print(len(subString(bs[0])))"
   ]
  },
  {
   "cell_type": "code",
   "execution_count": 157,
   "metadata": {},
   "outputs": [
    {
     "name": "stdout",
     "output_type": "stream",
     "text": [
      "{'D', 'E', 'Y', 'M', 'V', 'S', 'T', 'I'}\n"
     ]
    }
   ],
   "source": [
    "print(subString(bs[0]))"
   ]
  },
  {
   "cell_type": "code",
   "execution_count": 185,
   "metadata": {},
   "outputs": [],
   "source": [
    "def get_df_with_binder_subseqs(self) -> pd.DataFrame:\n",
    "        '''\n",
    "        Returns a filtered version of self.peps_same_len DataFrame containing only\n",
    "        those rows with sequences which contain subsequences of the two binder sequences\n",
    "        in the locations where they occur in the binders\n",
    "        '''\n",
    "        data: Dict[str, List[pd.DataFrame]] = dict.fromkeys(self.binders)\n",
    "        sseq = self.get_binder_subseq()\n",
    "        for binder in self.binders:\n",
    "            for (ss, i) in sseq[binder]:\n",
    "                filtered_data = self.df_filter_subseq(ss, i)\n",
    "                print(filtered_data)\n",
    "         \n",
    "        "
   ]
  },
  {
   "cell_type": "code",
   "execution_count": null,
   "metadata": {},
   "outputs": [],
   "source": []
  }
 ],
 "metadata": {
  "kernelspec": {
   "display_name": "Python 3",
   "language": "python",
   "name": "python3"
  },
  "language_info": {
   "codemirror_mode": {
    "name": "ipython",
    "version": 3
   },
   "file_extension": ".py",
   "mimetype": "text/x-python",
   "name": "python",
   "nbconvert_exporter": "python",
   "pygments_lexer": "ipython3",
   "version": "3.7.6"
  }
 },
 "nbformat": 4,
 "nbformat_minor": 4
}
